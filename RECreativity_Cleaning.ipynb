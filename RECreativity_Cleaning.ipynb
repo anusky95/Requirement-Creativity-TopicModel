{
 "cells": [
  {
   "cell_type": "code",
   "execution_count": 16,
   "metadata": {},
   "outputs": [
    {
     "name": "stdout",
     "output_type": "stream",
     "text": [
      "height has been deprecated.\n",
      "\n"
     ]
    }
   ],
   "source": [
    "import re\n",
    "import csv\n",
    "import nltk\n",
    "from nltk.corpus import stopwords\n",
    "from nltk.stem import PorterStemmer\n",
    "from nltk.tokenize import sent_tokenize, word_tokenize\n",
    "from nltk.tokenize import word_tokenize\n",
    "import pandas as pd\n",
    "import numpy as np\n",
    "from pandas import DataFrame\n",
    "\n",
    "pd.set_option('display.height', 1000)\n",
    "pd.set_option('display.max_rows', 3000)\n",
    "pd.set_option('display.width', 1000)\n",
    "pd.set_option('display.max_colwidth',100)\n",
    "train_req = []\n",
    "test_req = []\n",
    "train_ratings = []\n",
    "\n",
    "\n",
    "def cleantext(text):\n",
    "    text = str(text).lower()\n",
    "    text = re.sub('[ ]+[g|G][P|p][s|S][ ]+', ' global positioning system ', text)\n",
    "    text = re.sub('[ ]+[A|a][/]*[c|C][ ]+', ' air conditioning ', text)\n",
    "    text = re.sub('[ ]+[t|T][/|\\]*[v|V][s|S]*[ ]+', ' television ', text)\n",
    "    text = re.sub('[0-9][ ]+[p|P][.]+[M|m][.]+', ' night ', text)\n",
    "    text = re.sub('[0-9][ ]+[a|A][.]+[M|m][.]+', 'morning ', text)\n",
    "    text = re.sub('[w|W][i|I ][ |/|-|]*[f|F][i|I]', 'wifi', text)\n",
    "    text = re.sub('[w|W][i|I ][ |/|-|]*[f|F][i|I]', ' wifi ', text)\n",
    "    text = re.sub('[ ]+[b|B][p|P][ ]+', ' blood pressure ', text)\n",
    "    text = re.sub('[%]', 'percent', text)\n",
    "    text = re.sub('[.|//|\\|,|;|\\'|:|!|(|)|-|$|@|#|]', ' ', text)\n",
    "    text = text.split()\n",
    "\n",
    "    return text\n",
    "\n",
    "def stopwords_text(text):\n",
    "\n",
    "    stopwordList = set(stopwords.words(\"english\"))\n",
    "    stopwordList = list(stopwordList)\n",
    "    stopwordList.append(\"my\")\n",
    "    stopwordList.append(\"smart\")\n",
    "    stopwordList.append(\"house\")\n",
    "    stopwordList.append(\"home\")\n",
    "\n",
    "    for word in list(text):\n",
    "        if word in stopwordList:\n",
    "            text.remove(word)\n",
    "    return text\n",
    "\n",
    "def stem_text(text):\n",
    "    stemmedSentence =[]\n",
    "    ps = PorterStemmer()\n",
    "    for words in list(text):\n",
    "        text = ps.stem(words)\n",
    "        stemmedSentence.append(text)\n",
    "    return stemmedSentence\n",
    "\n",
    "def main():\n",
    "    # result_df = pd.DataFrame()\n",
    "    df = pd.read_csv('C:/Users/Anupama/Documents/4thsem/THESIS/requirementsData.csv', sep=',')\n",
    "    df_ratings = pd.read_csv('C:/Users/Anupama/Documents/4thsem/THESIS/requirementsData.csv', sep=',')\n",
    "    \n",
    "    sentences=[]\n",
    "    \n",
    "\n",
    "    for text in df['feature']:\n",
    "        text_cleaned=cleantext(text)\n",
    "        text_stopword = stopwords_text(text_cleaned)\n",
    "        stemmedWord = stem_text(text_stopword)\n",
    "        sentences.append(stemmedWord)\n",
    "\n",
    "    df_cleaned = pd.DataFrame({'requirement': sentences})\n",
    "    df_cleaned['requirementOriginal']=df['feature']\n",
    "    df_cleaned['requirement'] = df_cleaned.requirement.apply(' '.join)\n",
    "    df_cleaned.to_csv('C:/Users/Anupama/Documents/4thsem/THESIS/Output/CleanedRequirementOutput1.csv',encoding='utf-8')\n",
    "\n",
    "if __name__ == '__main__':\n",
    "    main()\n",
    "    \n",
    "    "
   ]
  },
  {
   "cell_type": "code",
   "execution_count": null,
   "metadata": {
    "collapsed": true
   },
   "outputs": [],
   "source": []
  },
  {
   "cell_type": "code",
   "execution_count": null,
   "metadata": {
    "collapsed": true
   },
   "outputs": [],
   "source": []
  }
 ],
 "metadata": {
  "kernelspec": {
   "display_name": "Python 3",
   "language": "python",
   "name": "python3"
  },
  "language_info": {
   "codemirror_mode": {
    "name": "ipython",
    "version": 3
   },
   "file_extension": ".py",
   "mimetype": "text/x-python",
   "name": "python",
   "nbconvert_exporter": "python",
   "pygments_lexer": "ipython3",
   "version": "3.6.1"
  }
 },
 "nbformat": 4,
 "nbformat_minor": 2
}
